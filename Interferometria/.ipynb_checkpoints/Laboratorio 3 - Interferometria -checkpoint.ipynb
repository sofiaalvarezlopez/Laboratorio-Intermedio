{
 "cells": [
  {
   "cell_type": "code",
   "execution_count": 53,
   "metadata": {},
   "outputs": [],
   "source": [
    "import pandas as pd\n",
    "import numpy as np\n",
    "import matplotlib.pyplot as plt\n",
    "from scipy.optimize import curve_fit\n",
    "import warnings\n",
    "warnings.filterwarnings(\"ignore\")"
   ]
  },
  {
   "cell_type": "markdown",
   "metadata": {},
   "source": [
    "<h1 align='center'>Laboratorio 3: Interferometría</h1>"
   ]
  },
  {
   "cell_type": "markdown",
   "metadata": {},
   "source": [
    "### Parte 1"
   ]
  },
  {
   "cell_type": "code",
   "execution_count": 2,
   "metadata": {},
   "outputs": [],
   "source": [
    "parte_1 = pd.read_csv('parte1.txt', delimiter='\\t')"
   ]
  },
  {
   "cell_type": "code",
   "execution_count": 15,
   "metadata": {},
   "outputs": [],
   "source": [
    "# Aquí vamos sumando los valores de los mínimos\n",
    "parte_1['sum_N'] = 0\n",
    "for i in range(1,len(parte_1['N'])):\n",
    "    parte_1['sum_N'][i] = 0\n",
    "    parte_1['sum_N'][i] += parte_1['sum_N'][i-1] + parte_1['N'][i]"
   ]
  },
  {
   "cell_type": "code",
   "execution_count": 20,
   "metadata": {},
   "outputs": [],
   "source": [
    "x = np.linspace(parte_1['sum_N'][0], parte_1['sum_N'][len(parte_1['sum_N'])-1])\n",
    "def linear(x,m,b): return m*x + b\n",
    "popt_parte1, pcov_parte1 = curve_fit(linear, parte_1['sum_N'], parte_1['dN'])"
   ]
  },
  {
   "cell_type": "code",
   "execution_count": 46,
   "metadata": {},
   "outputs": [
    {
     "data": {
      "image/png": "[encoded data removed]",
      "text/plain": [
       "<Figure size 360x222.75 with 1 Axes>"
      ]
     },
     "metadata": {
      "needs_background": "light"
     },
     "output_type": "display_data"
    }
   ],
   "source": [
    "plt.figure(figsize=(5,5/1.61616))\n",
    "plt.scatter(parte_1['sum_N'], parte_1['dN'],c='pink', label='Datos experimentales')\n",
    "plt.plot(x, x*popt_parte1[0] + popt_parte1[1],c='purple', label='y={:.1f}x{:.1f}'.format(popt_parte1[0]*1000, popt_parte1[1]*1000))\n",
    "plt.xlabel('Número de mínimos')\n",
    "plt.ylabel(r'Desplazamiento del espejo [µm]')\n",
    "plt.legend()\n",
    "plt.tight_layout()\n",
    "plt.savefig('parte1.pdf')"
   ]
  },
  {
   "cell_type": "markdown",
   "metadata": {},
   "source": [
    "La pendiente es la mitad de la longitud de onda por la relación, $$\\lambda = \\frac{2d_N}{N}.$$"
   ]
  },
  {
   "cell_type": "code",
   "execution_count": 40,
   "metadata": {},
   "outputs": [
    {
     "name": "stdout",
     "output_type": "stream",
     "text": [
      "La longitud de onda es 668.12 ± 0.03 nm \n"
     ]
    }
   ],
   "source": [
    "print('La longitud de onda es {:.2f} ± {:.2f} nm '.format(2*popt_parte1[0]*1000, pcov_parte1[0][0]*1000))"
   ]
  },
  {
   "cell_type": "markdown",
   "metadata": {},
   "source": [
    "### Parte 2"
   ]
  },
  {
   "cell_type": "code",
   "execution_count": 57,
   "metadata": {},
   "outputs": [],
   "source": [
    "refr_vidrio = pd.read_csv('refr_vidrio.txt', delimiter='\\t')\n",
    "refr_vidrio['Ang_corregido rad'] = np.radians(refr_vidrio['Angulo']-2.3)"
   ]
  },
  {
   "cell_type": "code",
   "execution_count": 58,
   "metadata": {},
   "outputs": [],
   "source": [
    "# Aquí vamos sumando los valores de los mínimos\n",
    "refr_vidrio['sum_N'] = 0\n",
    "for i in range(1,len(refr_vidrio['Minimos'])):\n",
    "    refr_vidrio['sum_N'][i] = 0\n",
    "    refr_vidrio['sum_N'][i] += refr_vidrio['sum_N'][i-1] + refr_vidrio['Minimos'][i]"
   ]
  },
  {
   "cell_type": "code",
   "execution_count": 63,
   "metadata": {},
   "outputs": [],
   "source": [
    "def n_vidrio(t,Ns,lambda_, thetas):\n",
    "    return ((2*t - Ns*lambda_)*(1 - np.cos(thetas)) + Ns**2*lambda_**2/(4*t))/((2*t*(1-np.cos(thetas)) - Ns*lambda_ ))"
   ]
  },
  {
   "cell_type": "code",
   "execution_count": 86,
   "metadata": {},
   "outputs": [],
   "source": [
    "t = 5700000\n",
    "lambda_ = 668.12\n",
    "refr_vidrio['n_vidrio'] = n_vidrio(t, refr_vidrio['sum_N'], lambda_, refr_vidrio['Ang_corregido rad'])"
   ]
  },
  {
   "cell_type": "code",
   "execution_count": 87,
   "metadata": {},
   "outputs": [
    {
     "data": {
      "text/html": [
       "<div>\n",
       "<style scoped>\n",
       "    .dataframe tbody tr th:only-of-type {\n",
       "        vertical-align: middle;\n",
       "    }\n",
       "\n",
       "    .dataframe tbody tr th {\n",
       "        vertical-align: top;\n",
       "    }\n",
       "\n",
       "    .dataframe thead th {\n",
       "        text-align: right;\n",
       "    }\n",
       "</style>\n",
       "<table border=\"1\" class=\"dataframe\">\n",
       "  <thead>\n",
       "    <tr style=\"text-align: right;\">\n",
       "      <th></th>\n",
       "      <th>Angulo</th>\n",
       "      <th>Minimos</th>\n",
       "      <th>Ang_corregido rad</th>\n",
       "      <th>sum_N</th>\n",
       "      <th>n_vidrio</th>\n",
       "    </tr>\n",
       "  </thead>\n",
       "  <tbody>\n",
       "    <tr>\n",
       "      <th>0</th>\n",
       "      <td>2.3</td>\n",
       "      <td>0</td>\n",
       "      <td>0.000000</td>\n",
       "      <td>0</td>\n",
       "      <td>NaN</td>\n",
       "    </tr>\n",
       "    <tr>\n",
       "      <th>1</th>\n",
       "      <td>4.7</td>\n",
       "      <td>5</td>\n",
       "      <td>0.041888</td>\n",
       "      <td>5</td>\n",
       "      <td>1.501290</td>\n",
       "    </tr>\n",
       "    <tr>\n",
       "      <th>2</th>\n",
       "      <td>5.8</td>\n",
       "      <td>5</td>\n",
       "      <td>0.061087</td>\n",
       "      <td>10</td>\n",
       "      <td>1.457458</td>\n",
       "    </tr>\n",
       "    <tr>\n",
       "      <th>3</th>\n",
       "      <td>6.5</td>\n",
       "      <td>5</td>\n",
       "      <td>0.073304</td>\n",
       "      <td>15</td>\n",
       "      <td>1.485564</td>\n",
       "    </tr>\n",
       "    <tr>\n",
       "      <th>4</th>\n",
       "      <td>7.6</td>\n",
       "      <td>6</td>\n",
       "      <td>0.092502</td>\n",
       "      <td>21</td>\n",
       "      <td>1.402766</td>\n",
       "    </tr>\n",
       "    <tr>\n",
       "      <th>5</th>\n",
       "      <td>8.2</td>\n",
       "      <td>4</td>\n",
       "      <td>0.102974</td>\n",
       "      <td>25</td>\n",
       "      <td>1.380607</td>\n",
       "    </tr>\n",
       "    <tr>\n",
       "      <th>6</th>\n",
       "      <td>8.9</td>\n",
       "      <td>5</td>\n",
       "      <td>0.115192</td>\n",
       "      <td>30</td>\n",
       "      <td>1.359026</td>\n",
       "    </tr>\n",
       "    <tr>\n",
       "      <th>7</th>\n",
       "      <td>9.2</td>\n",
       "      <td>5</td>\n",
       "      <td>0.120428</td>\n",
       "      <td>35</td>\n",
       "      <td>1.392666</td>\n",
       "    </tr>\n",
       "    <tr>\n",
       "      <th>8</th>\n",
       "      <td>10.0</td>\n",
       "      <td>6</td>\n",
       "      <td>0.134390</td>\n",
       "      <td>41</td>\n",
       "      <td>1.360469</td>\n",
       "    </tr>\n",
       "    <tr>\n",
       "      <th>9</th>\n",
       "      <td>10.3</td>\n",
       "      <td>5</td>\n",
       "      <td>0.139626</td>\n",
       "      <td>46</td>\n",
       "      <td>1.379948</td>\n",
       "    </tr>\n",
       "    <tr>\n",
       "      <th>10</th>\n",
       "      <td>10.8</td>\n",
       "      <td>5</td>\n",
       "      <td>0.148353</td>\n",
       "      <td>51</td>\n",
       "      <td>1.370297</td>\n",
       "    </tr>\n",
       "    <tr>\n",
       "      <th>11</th>\n",
       "      <td>11.1</td>\n",
       "      <td>5</td>\n",
       "      <td>0.153589</td>\n",
       "      <td>56</td>\n",
       "      <td>1.382672</td>\n",
       "    </tr>\n",
       "    <tr>\n",
       "      <th>12</th>\n",
       "      <td>11.4</td>\n",
       "      <td>5</td>\n",
       "      <td>0.158825</td>\n",
       "      <td>61</td>\n",
       "      <td>1.392449</td>\n",
       "    </tr>\n",
       "    <tr>\n",
       "      <th>13</th>\n",
       "      <td>11.8</td>\n",
       "      <td>5</td>\n",
       "      <td>0.165806</td>\n",
       "      <td>66</td>\n",
       "      <td>1.388215</td>\n",
       "    </tr>\n",
       "    <tr>\n",
       "      <th>14</th>\n",
       "      <td>12.1</td>\n",
       "      <td>6</td>\n",
       "      <td>0.171042</td>\n",
       "      <td>72</td>\n",
       "      <td>1.401743</td>\n",
       "    </tr>\n",
       "    <tr>\n",
       "      <th>15</th>\n",
       "      <td>12.5</td>\n",
       "      <td>6</td>\n",
       "      <td>0.178024</td>\n",
       "      <td>78</td>\n",
       "      <td>1.401454</td>\n",
       "    </tr>\n",
       "    <tr>\n",
       "      <th>16</th>\n",
       "      <td>12.6</td>\n",
       "      <td>5</td>\n",
       "      <td>0.179769</td>\n",
       "      <td>83</td>\n",
       "      <td>1.426451</td>\n",
       "    </tr>\n",
       "    <tr>\n",
       "      <th>17</th>\n",
       "      <td>12.9</td>\n",
       "      <td>5</td>\n",
       "      <td>0.185005</td>\n",
       "      <td>88</td>\n",
       "      <td>1.426859</td>\n",
       "    </tr>\n",
       "  </tbody>\n",
       "</table>\n",
       "</div>"
      ],
      "text/plain": [
       "    Angulo  Minimos  Ang_corregido rad  sum_N  n_vidrio\n",
       "0      2.3        0           0.000000      0       NaN\n",
       "1      4.7        5           0.041888      5  1.501290\n",
       "2      5.8        5           0.061087     10  1.457458\n",
       "3      6.5        5           0.073304     15  1.485564\n",
       "4      7.6        6           0.092502     21  1.402766\n",
       "5      8.2        4           0.102974     25  1.380607\n",
       "6      8.9        5           0.115192     30  1.359026\n",
       "7      9.2        5           0.120428     35  1.392666\n",
       "8     10.0        6           0.134390     41  1.360469\n",
       "9     10.3        5           0.139626     46  1.379948\n",
       "10    10.8        5           0.148353     51  1.370297\n",
       "11    11.1        5           0.153589     56  1.382672\n",
       "12    11.4        5           0.158825     61  1.392449\n",
       "13    11.8        5           0.165806     66  1.388215\n",
       "14    12.1        6           0.171042     72  1.401743\n",
       "15    12.5        6           0.178024     78  1.401454\n",
       "16    12.6        5           0.179769     83  1.426451\n",
       "17    12.9        5           0.185005     88  1.426859"
      ]
     },
     "execution_count": 87,
     "metadata": {},
     "output_type": "execute_result"
    }
   ],
   "source": [
    "refr_vidrio"
   ]
  },
  {
   "cell_type": "code",
   "execution_count": 88,
   "metadata": {},
   "outputs": [
    {
     "data": {
      "image/png": "[encoded data removed]",
      "text/plain": [
       "<Figure size 360x222.75 with 1 Axes>"
      ]
     },
     "metadata": {
      "needs_background": "light"
     },
     "output_type": "display_data"
    }
   ],
   "source": [
    "plt.figure(figsize=(5,5/1.61616))\n",
    "n, bins, patches = plt.hist(refr_vidrio['n_vidrio'], 8, facecolor='lightsalmon', alpha=0.75)\n",
    "plt.xlabel(r'Índice de refracción del vidrio')\n",
    "plt.ylabel(r'Frecuencia')\n",
    "plt.tight_layout()\n",
    "plt.savefig('histograma_refr.pdf')"
   ]
  },
  {
   "cell_type": "code",
   "execution_count": 90,
   "metadata": {},
   "outputs": [
    {
     "name": "stdout",
     "output_type": "stream",
     "text": [
      "El índice de refracción del vidrio es 1.41 ± 0.04\n"
     ]
    }
   ],
   "source": [
    "print('El índice de refracción del vidrio es {:.2f} ± {:.2f}'.format(np.mean(refr_vidrio['n_vidrio']), np.std(refr_vidrio['n_vidrio'])))"
   ]
  },
  {
   "cell_type": "code",
   "execution_count": null,
   "metadata": {},
   "outputs": [],
   "source": []
  },
  {
   "cell_type": "code",
   "execution_count": null,
   "metadata": {},
   "outputs": [],
   "source": []
  }
 ],
 "metadata": {
  "kernelspec": {
   "display_name": "Python 3",
   "language": "python",
   "name": "python3"
  },
  "language_info": {
   "codemirror_mode": {
    "name": "ipython",
    "version": 3
   },
   "file_extension": ".py",
   "mimetype": "text/x-python",
   "name": "python",
   "nbconvert_exporter": "python",
   "pygments_lexer": "ipython3",
   "version": "3.8.3"
  }
 },
 "nbformat": 4,
 "nbformat_minor": 4
}
