{
 "cells": [
  {
   "cell_type": "code",
   "execution_count": 14,
   "metadata": {},
   "outputs": [],
   "source": [
    "import pandas as pd\n",
    "import numpy as np\n",
    "import matplotlib.pyplot as plt\n",
    "from scipy.optimize import curve_fit"
   ]
  },
  {
   "cell_type": "markdown",
   "metadata": {},
   "source": [
    "<h1 align='center'>Laboratorio 3: Interferometría</h1>"
   ]
  },
  {
   "cell_type": "markdown",
   "metadata": {},
   "source": [
    "### Parte 1"
   ]
  },
  {
   "cell_type": "code",
   "execution_count": 2,
   "metadata": {},
   "outputs": [],
   "source": [
    "parte_1 = pd.read_csv('parte1.txt', delimiter='\\t')"
   ]
  },
  {
   "cell_type": "code",
   "execution_count": 15,
   "metadata": {},
   "outputs": [],
   "source": [
    "# Aquí vamos sumando los valores de los mínimos\n",
    "parte_1['sum_N'] = 0\n",
    "for i in range(1,len(parte_1['N'])):\n",
    "    parte_1['sum_N'][i] += parte_1['sum_N'][i-1] + parte_1['N'][i]"
   ]
  },
  {
   "cell_type": "code",
   "execution_count": 20,
   "metadata": {},
   "outputs": [],
   "source": [
    "x = np.linspace(parte_1['sum_N'][0], parte_1['sum_N'][len(parte_1['sum_N'])-1])\n",
    "def linear(x,m,b): return m*x + b\n",
    "popt_parte1, pcov_parte1 = curve_fit(linear, parte_1['sum_N'], parte_1['dN'])"
   ]
  },
  {
   "cell_type": "code",
   "execution_count": 34,
   "metadata": {},
   "outputs": [
    {
     "data": {
      "image/png": "[encoded data removed]",
      "text/plain": [
       "<Figure size 360x222.75 with 1 Axes>"
      ]
     },
     "metadata": {
      "needs_background": "light"
     },
     "output_type": "display_data"
    }
   ],
   "source": [
    "plt.figure(figsize=(5,5/1.61616))\n",
    "plt.scatter(parte_1['sum_N'], parte_1['dN'],c='pink', label='Datos experimentales')\n",
    "plt.plot(x, x*popt_parte1[0] + popt_parte1[1],c='purple', label='y={:.1f}x{:.1f}'.format(popt_parte1[0]*1000, popt_parte1[1]*1000))\n",
    "plt.xlabel('Número de mínimos')\n",
    "plt.ylabel(r'Desplazamiento del espejo [µm]')\n",
    "plt.legend()\n",
    "plt.savefig('parte1.png')"
   ]
  },
  {
   "cell_type": "markdown",
   "metadata": {},
   "source": [
    "La pendiente es la mitad de la longitud de onda por la relación, $$\\lambda = \\frac{2d_N}{N}.$$"
   ]
  },
  {
   "cell_type": "code",
   "execution_count": 40,
   "metadata": {},
   "outputs": [
    {
     "name": "stdout",
     "output_type": "stream",
     "text": [
      "La longitud de onda es 668.12 ± 0.03 nm \n"
     ]
    }
   ],
   "source": [
    "print('La longitud de onda es {:.2f} ± {:.2f} nm '.format(2*popt_parte1[0]*1000, pcov_parte1[0][0]*1000))"
   ]
  },
  {
   "cell_type": "code",
   "execution_count": null,
   "metadata": {},
   "outputs": [],
   "source": []
  },
  {
   "cell_type": "code",
   "execution_count": null,
   "metadata": {},
   "outputs": [],
   "source": []
  }
 ],
 "metadata": {
  "kernelspec": {
   "display_name": "Python 3",
   "language": "python",
   "name": "python3"
  },
  "language_info": {
   "codemirror_mode": {
    "name": "ipython",
    "version": 3
   },
   "file_extension": ".py",
   "mimetype": "text/x-python",
   "name": "python",
   "nbconvert_exporter": "python",
   "pygments_lexer": "ipython3",
   "version": "3.8.3"
  }
 },
 "nbformat": 4,
 "nbformat_minor": 4
}
