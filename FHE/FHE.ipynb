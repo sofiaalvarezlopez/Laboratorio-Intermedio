{
 "cells": [
  {
   "cell_type": "markdown",
   "metadata": {},
   "source": [
    "### Daniel Dorado y Sofía Álvarez"
   ]
  },
  {
   "cell_type": "markdown",
   "metadata": {},
   "source": [
    "<h1 align='center'>Laboratorio 2: Experimento de Franck-Hertz</h1>"
   ]
  },
  {
   "cell_type": "code",
   "execution_count": 39,
   "metadata": {},
   "outputs": [],
   "source": [
    "# ESAI\n",
    "import itertools\n",
    "import numpy as np\n",
    "import pandas as pd\n",
    "from os import listdir\n",
    "from scipy.constants import e\n",
    "import matplotlib.pyplot as plt\n",
    "from os.path import isfile, join\n",
    "from scipy.optimize import curve_fit"
   ]
  },
  {
   "cell_type": "markdown",
   "metadata": {},
   "source": [
    "## Análisis Cualitativo"
   ]
  },
  {
   "cell_type": "code",
   "execution_count": 2,
   "metadata": {},
   "outputs": [
    {
     "name": "stdout",
     "output_type": "stream",
     "text": [
      "4.956\n",
      "0.16388166462420395\n"
     ]
    }
   ],
   "source": [
    "minimos = np.array([5.182, 4.923, 4.882, 5.083, 4.710])\n",
    "mean_minimos = np.mean(minimos)\n",
    "st_dev_minimos = np.std(minimos)\n",
    "print(mean_minimos)\n",
    "print(st_dev_minimos)\n"
   ]
  },
  {
   "cell_type": "markdown",
   "metadata": {},
   "source": [
    "## Análisis Cuantitativo\n",
    "\n",
    "### Actividad 2 - Ejercicio 3"
   ]
  },
  {
   "cell_type": "code",
   "execution_count": 3,
   "metadata": {},
   "outputs": [],
   "source": [
    "# Leemos los datos\n",
    "T_165 = pd.read_csv('Datos/Min-Max/T165.txt', sep='\\t')\n",
    "T_170 = pd.read_csv('Datos/Min-Max/T170.txt', sep='\\t')\n",
    "T_175 = pd.read_csv('Datos/Min-Max/T175.txt', sep='\\t')\n",
    "T_180 = pd.read_csv('Datos/Min-Max/T180.txt', sep='\\t')\n",
    "T_185 = pd.read_csv('Datos/Min-Max/T185.txt', sep='\\t')"
   ]
  },
  {
   "cell_type": "code",
   "execution_count": 21,
   "metadata": {},
   "outputs": [],
   "source": [
    "# Tomamos únicamente los mínimos\n",
    "T_165 = T_165[T_165['tipo'] == 'mínimo']\n",
    "T_170 = T_170[T_170['tipo'] == 'mínimo']\n",
    "T_175 = T_175[T_175['tipo'] == 'mínimo']\n",
    "T_180 = T_180[T_180['tipo'] == 'mínimo']\n",
    "T_185 = T_185[T_185['tipo'] == 'mínimo']"
   ]
  },
  {
   "cell_type": "code",
   "execution_count": 22,
   "metadata": {
    "scrolled": false
   },
   "outputs": [
    {
     "data": {
      "image/png": "[encoded data removed]",
      "text/plain": [
       "<Figure size 360x222.75 with 1 Axes>"
      ]
     },
     "metadata": {
      "needs_background": "light"
     },
     "output_type": "display_data"
    }
   ],
   "source": [
    "plt.figure(figsize=(5,5/1.61616))\n",
    "colors = ['turquoise','dodgerblue','pink','mediumorchid','limegreen','gold', 'deeppink', 'olive', 'orangered', 'gray']\n",
    "plt.scatter([165]*len(T_165), T_165['U1[V]'], s=10, c = colors[:-2])\n",
    "plt.scatter([170]*len(T_170), T_170['U1[V]'], s=10, c= colors[:-1])\n",
    "plt.scatter([175]*len(T_175), T_175['U1[V]'], s=10, c=colors)\n",
    "plt.scatter([180]*len(T_180), T_180['U1[V]'], s=10, c=colors)\n",
    "plt.scatter([185]*len(T_185), T_185['U1[V]'], s=10, c=colors)\n",
    "plt.xlabel(r'Temperatura [°C]')\n",
    "plt.xticks([165, 170, 175, 180, 185])\n",
    "plt.ylabel(r'Mínimos de voltaje $U_1$ [V]')\n",
    "plt.tight_layout()\n",
    "plt.savefig('minimos.pdf')\n",
    "plt.show()"
   ]
  },
  {
   "cell_type": "code",
   "execution_count": 23,
   "metadata": {},
   "outputs": [],
   "source": [
    "def minimos(lista, nombre_columna='U1[V]'):\n",
    "    lista_minimos = []\n",
    "    for i in range(len(lista)-1,0,-1):\n",
    "        lista_minimos.append(list(lista[nombre_columna])[i] - list(lista[nombre_columna])[i-1])\n",
    "    return lista_minimos\n",
    "\n",
    "def orden_minimos(lista): return [i+3 for i in range(len(lista))]"
   ]
  },
  {
   "cell_type": "code",
   "execution_count": 27,
   "metadata": {},
   "outputs": [],
   "source": [
    "minimos_165 = np.array(minimos(T_165))  \n",
    "minimos_170 = np.array(minimos(T_170))\n",
    "minimos_175 = np.array(minimos(T_175))\n",
    "minimos_180 = np.array(minimos(T_180))\n",
    "minimos_185 = np.array(minimos(T_185))"
   ]
  },
  {
   "cell_type": "code",
   "execution_count": 8,
   "metadata": {},
   "outputs": [
    {
     "name": "stdout",
     "output_type": "stream",
     "text": [
      "4.937142857142858 0.1659358125226464\n"
     ]
    }
   ],
   "source": [
    "media_165 = np.mean(minimos_165)\n",
    "st_dev_165 = np.std(minimos_165)\n",
    "print(media_165, st_dev_165)"
   ]
  },
  {
   "cell_type": "code",
   "execution_count": 9,
   "metadata": {},
   "outputs": [
    {
     "name": "stdout",
     "output_type": "stream",
     "text": [
      "4.945 0.1978635893740928\n"
     ]
    }
   ],
   "source": [
    "media_170 = np.mean(minimos_170)\n",
    "st_dev_170 = np.std(minimos_170)\n",
    "print(media_170, st_dev_170)"
   ]
  },
  {
   "cell_type": "code",
   "execution_count": 10,
   "metadata": {},
   "outputs": [
    {
     "name": "stdout",
     "output_type": "stream",
     "text": [
      "4.943333333333333 0.1363003220017392\n"
     ]
    }
   ],
   "source": [
    "media_175 = np.mean(minimos_175)\n",
    "st_dev_175 = np.std(minimos_175)\n",
    "print(media_175, st_dev_175)"
   ]
  },
  {
   "cell_type": "code",
   "execution_count": 11,
   "metadata": {},
   "outputs": [
    {
     "name": "stdout",
     "output_type": "stream",
     "text": [
      "4.935555555555556 0.17308386606312479\n"
     ]
    }
   ],
   "source": [
    "media_180 = np.mean(minimos_180)\n",
    "st_dev_180 = np.std(minimos_180)\n",
    "print(media_180, st_dev_180)"
   ]
  },
  {
   "cell_type": "code",
   "execution_count": 12,
   "metadata": {},
   "outputs": [
    {
     "name": "stdout",
     "output_type": "stream",
     "text": [
      "4.930000000000001 0.1388844443733302\n"
     ]
    }
   ],
   "source": [
    "media_185 = np.mean(minimos_185)\n",
    "st_dev_185 = np.std(minimos_185)\n",
    "print(media_185, st_dev_185)"
   ]
  },
  {
   "cell_type": "code",
   "execution_count": 13,
   "metadata": {},
   "outputs": [],
   "source": [
    "temperaturas = [165, 170, 175, 180, 185]\n",
    "voltajes = [np.round(media_165), np.round(media_170), np.round(media_175), np.round(media_180), np.round(media_185)]\n",
    "desv = [np.round(st_dev_165), np.round(st_dev_170), np.round(st_dev_175), np.round(st_dev_180), np.round(st_dev_185)]\n",
    "#plt.errorbar(temperaturas, voltajes, '.', yerr=desv)"
   ]
  },
  {
   "cell_type": "code",
   "execution_count": 60,
   "metadata": {},
   "outputs": [
    {
     "data": {
      "image/png": "[encoded data removed]",
      "text/plain": [
       "<Figure size 360x222.75 with 1 Axes>"
      ]
     },
     "metadata": {
      "needs_background": "light"
     },
     "output_type": "display_data"
    }
   ],
   "source": [
    "todos_los_minimos = list(itertools.chain(minimos_165, minimos_170, minimos_175, minimos_180, minimos_185))\n",
    "plt.figure(figsize=(5,5/1.61616))\n",
    "n, bins, patches = plt.hist(todos_los_minimos, 9, facecolor='lightsalmon', alpha=0.75)\n",
    "plt.xlabel(r'Distancia entre los mínimos de voltaje $U_1$ [eV]')\n",
    "plt.ylabel(r'Número de mínimos')\n",
    "plt.tight_layout()\n",
    "plt.savefig('histograma_minimos.pdf')"
   ]
  },
  {
   "cell_type": "code",
   "execution_count": 59,
   "metadata": {},
   "outputs": [
    {
     "name": "stdout",
     "output_type": "stream",
     "text": [
      "4.938095238095238 0.16312773398895622\n"
     ]
    }
   ],
   "source": [
    "todos_los_minimos = np.array(todos_los_minimos)\n",
    "todos_los_minimos_media = np.mean(todos_los_minimos)\n",
    "todos_los_minimos_stdev = np.std(todos_los_minimos)\n",
    "print(todos_los_minimos_media, todos_los_minimos_stdev)"
   ]
  },
  {
   "cell_type": "markdown",
   "metadata": {},
   "source": [
    "--- \n",
    "Viendo los archivos, podemos encontrar una mayor cantidad de mínimos (en posiciones más adecuadas)."
   ]
  },
  {
   "cell_type": "markdown",
   "metadata": {},
   "source": [
    "### Actividad 2 - Ejercicio 5\n",
    "Para valores cambiantes de $U_2$"
   ]
  },
  {
   "cell_type": "code",
   "execution_count": null,
   "metadata": {},
   "outputs": [],
   "source": [
    "_1_0_V = pd.read_csv('Datos/U2-Variable/1-0V.txt', sep='\\t')\n",
    "_1_3_V = pd.read_csv('Datos/U2-Variable/1-3V.txt', sep='\\t')\n",
    "_1_5_V = pd.read_csv('Datos/U2-Variable/1-5V.txt', sep='\\t')\n",
    "_1_8_V = pd.read_csv('Datos/U2-Variable/1-8V.txt', sep='\\t')\n",
    "_2_0_V = pd.read_csv('Datos/U2-Variable/2-0V.txt', sep='\\t')"
   ]
  },
  {
   "cell_type": "code",
   "execution_count": null,
   "metadata": {},
   "outputs": [],
   "source": [
    "plt.figure(figsize=(5,5/1.61616))\n",
    "plt.plot(_1_0_V['U1'], _1_0_V['I'], label= r'$U_2$=1.0V', color='turquoise')\n",
    "plt.plot(_1_3_V['U1'], _1_3_V['I'], label= r'$U_2$=1.3V', color='dodgerblue')\n",
    "plt.plot(_1_5_V['U1'], _1_5_V['I'], label= r'$U_2$=1.5V', color='pink')\n",
    "plt.plot(_1_8_V['U1'], _1_8_V['I'], label= r'$U_2$=1.8V', color='mediumorchid')\n",
    "plt.plot(_2_0_V['U1'], _2_0_V['I'], label= r'$U_2$=2.0V', color='limegreen')\n",
    "plt.legend()\n",
    "plt.xlabel(r'Voltaje $U_1$ [V]')\n",
    "plt.ylabel(r'Corriente $I_A$ [nA]')\n",
    "plt.tight_layout()\n",
    "plt.savefig('U2.pdf')\n"
   ]
  },
  {
   "cell_type": "markdown",
   "metadata": {},
   "source": [
    "### Actividad 2 - Ejercicio 5\n",
    "Para valores cambiantes de $U_H$"
   ]
  },
  {
   "cell_type": "code",
   "execution_count": null,
   "metadata": {},
   "outputs": [],
   "source": [
    "_5_8_V = pd.read_csv('Datos/UH-Variable/5-8V.txt', sep='\\t')\n",
    "_6_0_V = pd.read_csv('Datos/UH-Variable/6-0V.txt', sep='\\t')\n",
    "_6_2_V = pd.read_csv('Datos/UH-Variable/6-2V.txt', sep='\\t')\n",
    "_6_4_V = pd.read_csv('Datos/UH-Variable/6-4V.txt', sep='\\t')\n",
    "_6_6_V = pd.read_csv('Datos/UH-Variable/6-6V.txt', sep='\\t')\n",
    "_6_8_V = pd.read_csv('Datos/UH-Variable/6-8V.txt', sep='\\t')"
   ]
  },
  {
   "cell_type": "code",
   "execution_count": null,
   "metadata": {},
   "outputs": [],
   "source": [
    "plt.figure(figsize=(5,5/1.61616))\n",
    "plt.plot(_5_8_V['U1'], _5_8_V['I'], label= r'$U_H$=5.8V', color='turquoise')\n",
    "plt.plot(_6_0_V['U1'], _6_0_V['I'], label= r'$U_H$=6.0V', color='dodgerblue')\n",
    "plt.plot(_6_2_V['U1'], _6_2_V['I'], label= r'$U_H$=6.2V', color='pink')\n",
    "plt.plot(_6_4_V['U1'], _6_4_V['I'], label= r'$U_H$=6.4V', color='mediumorchid')\n",
    "plt.plot(_6_6_V['U1'], _6_6_V['I'], label= r'$U_H$=6.6V', color='limegreen')\n",
    "plt.plot(_6_8_V['U1'], _6_8_V['I'], label= r'$U_H$=6.8V', color='gold')\n",
    "plt.legend()\n",
    "plt.xlabel(r'Voltaje $U_1$ [V]')\n",
    "plt.ylabel(r'Corriente $I_A$ [nA]')\n",
    "plt.tight_layout()\n",
    "plt.savefig('UH.pdf')\n"
   ]
  },
  {
   "cell_type": "markdown",
   "metadata": {},
   "source": [
    "### Actividad 3"
   ]
  },
  {
   "cell_type": "code",
   "execution_count": null,
   "metadata": {},
   "outputs": [],
   "source": [
    "orden_165 = orden_minimos(minimos_165)\n",
    "orden_170 = orden_minimos(minimos_170)\n",
    "orden_175 = orden_minimos(minimos_175)\n",
    "orden_180 = orden_minimos(minimos_180)\n",
    "orden_185 = orden_minimos(minimos_185)"
   ]
  },
  {
   "cell_type": "code",
   "execution_count": null,
   "metadata": {},
   "outputs": [],
   "source": [
    "def linear(x,m,b):\n",
    "    return m*x + b"
   ]
  },
  {
   "cell_type": "code",
   "execution_count": null,
   "metadata": {},
   "outputs": [],
   "source": [
    "x_165 = np.linspace(0,9,7)\n",
    "x_170 = np.linspace(0,10,8)\n",
    "x_175 = np.linspace(0,11,9)\n",
    "popt_165, pcov_165 = curve_fit(linear, x_165, minimos_165[::-1])\n",
    "popt_170, pcov_170 = curve_fit(linear, x_170, minimos_170[::-1])\n",
    "popt_175, pcov_175 = curve_fit(linear, x_175, minimos_175[::-1])\n",
    "popt_180, pcov_180 = curve_fit(linear, x_175, minimos_180[::-1])\n",
    "popt_185, pcov_185 = curve_fit(linear, x_175, minimos_185[::-1])"
   ]
  },
  {
   "cell_type": "code",
   "execution_count": null,
   "metadata": {},
   "outputs": [],
   "source": [
    "plt.figure(figsize=(5,5/1.61616))\n",
    "plt.axvline(x=0.5, ls='--', c='orangered')\n",
    "plt.text(x=0.7, y=5.1, s=r'n=0.5', c='orangered')\n",
    "plt.plot(orden_165, minimos_165[::-1], '.', color='turquoise', label='T = 165°C')\n",
    "plt.plot(x_165, popt_165[0]*x_165 + popt_165[1], color='turquoise')\n",
    "\n",
    "plt.plot(orden_170, minimos_170[::-1], '.', color='dodgerblue', label='T = 170°C')\n",
    "plt.plot(x_170, popt_170[0]*x_170 + popt_170[1], color='dodgerblue')\n",
    "\n",
    "plt.plot(orden_175, minimos_175[::-1], '.', color='pink', label='T = 175°C')\n",
    "plt.plot(x_175, popt_175[0]*x_175 + popt_175[1], color='pink')\n",
    "\n",
    "plt.plot(orden_180, minimos_180[::-1], '.', color='mediumorchid', label='T = 180°C')\n",
    "plt.plot(x_175, popt_180[0]*x_175 + popt_180[1], color='mediumorchid')\n",
    "\n",
    "plt.plot(orden_185, minimos_185[::-1], '.', color='limegreen', label='T = 185°C')\n",
    "plt.plot(x_175, popt_185[0]*x_175 + popt_185[1], color='limegreen')\n",
    "\n",
    "plt.xlabel('Orden del mínimo (n)')\n",
    "plt.ylabel(r'Diferencia de voltaje $\\Delta U_1$ [eV]')\n",
    "plt.legend()\n",
    "plt.tight_layout()\n",
    "plt.savefig('mean_free_path.pdf')"
   ]
  },
  {
   "cell_type": "code",
   "execution_count": null,
   "metadata": {},
   "outputs": [],
   "source": [
    "L = 12*10**-3\n",
    "E_a_teorico = 4.67\n",
    "def l(m): return L*m/(2*E_a_teorico)\n",
    "def E_A(m,b): return m*0.5 + b"
   ]
  },
  {
   "cell_type": "code",
   "execution_count": null,
   "metadata": {},
   "outputs": [],
   "source": [
    "E_A_165 = E_A(popt_165[0], popt_165[1])\n",
    "E_A_170 = E_A(popt_170[0], popt_170[1])\n",
    "E_A_175 = E_A(popt_175[0], popt_175[1])\n",
    "E_A_180 = E_A(popt_180[0], popt_180[1])\n",
    "E_A_185 = E_A(popt_185[0], popt_185[1])\n",
    "media_E_A = np.mean([E_A_165, E_A_170, E_A_175, E_A_180, E_A_185])\n",
    "std_E_A = np.std([E_A_165, E_A_170, E_A_175, E_A_180, E_A_185])\n",
    "print(media_E_A, std_E_A)"
   ]
  },
  {
   "cell_type": "code",
   "execution_count": null,
   "metadata": {},
   "outputs": [],
   "source": [
    "l_165 = l(popt_165[0])\n",
    "l_170 = l(popt_170[0])\n",
    "l_175 = l(popt_175[0])\n",
    "l_180 = l(popt_180[0])\n",
    "l_185 = l(popt_185[0])"
   ]
  },
  {
   "cell_type": "code",
   "execution_count": null,
   "metadata": {},
   "outputs": [],
   "source": [
    "k = 1.38064852e-23"
   ]
  },
  {
   "cell_type": "code",
   "execution_count": null,
   "metadata": {},
   "outputs": [],
   "source": [
    "def pressure (temp):\n",
    "    r = 9-3110/temp\n",
    "    t = 10**r\n",
    "    return 8.7*t\n",
    "\n",
    "def density (temp):\n",
    "    return pressure(temp)/(k*temp)\n",
    "\n",
    "R = 155e-12\n",
    "sigma = np.pi*(R**2) \n",
    "\n",
    "def mean_free_path (temp):\n",
    "    c = np.sqrt(2)*sigma\n",
    "    c *= density(temp)\n",
    "    return 1/c"
   ]
  },
  {
   "cell_type": "code",
   "execution_count": null,
   "metadata": {},
   "outputs": [],
   "source": [
    "x = np.linspace(150,200,1000)\n",
    "\n",
    "plt.figure(figsize=(5,5/1.61616))\n",
    "#plt.subplot(1,2,1)\n",
    "#plt.title(r'Coeficientes de reflexión y transmisión para luz incidente sobre el diamante desde el aire')\n",
    "plt.plot(x,mean_free_path(x+273.15)*10**3,color='pink', label=r'Camino libre teórico')\n",
    "plt.plot(165,l_165*10**3, '.', c='dodgerblue', label=r'Camino libre experimental')\n",
    "plt.plot(170,l_170*10**3, '.', c='dodgerblue')\n",
    "plt.plot(175,l_175*10**3, '.', c='dodgerblue')\n",
    "plt.plot(180,l_180*10**3, '.', c='dodgerblue')\n",
    "plt.plot(185,l_185*10**3, '.', c='dodgerblue')\n",
    "plt.errorbar(165, l_165*10**3, yerr=np.sqrt(pcov_165[0][0]), c='dodgerblue')\n",
    "plt.errorbar(170, l_170*10**3, yerr=np.sqrt(pcov_170[0][0]), c='dodgerblue')\n",
    "plt.errorbar(175, l_175*10**3, yerr=np.sqrt(pcov_175[0][0]), c='dodgerblue')\n",
    "plt.errorbar(180, l_180*10**3, yerr=np.sqrt(pcov_180[0][0]), c='dodgerblue')\n",
    "plt.errorbar(185, l_185*10**3, yerr=np.sqrt(pcov_185[0][0]), c='dodgerblue')\n",
    "plt.xlabel('Temperatura [C]')\n",
    "plt.ylabel('Camino libre medio [mm]')\n",
    "plt.tight_layout()\n",
    "plt.legend()\n",
    "plt.savefig('mfp_teo_exp.pdf')"
   ]
  },
  {
   "cell_type": "code",
   "execution_count": null,
   "metadata": {},
   "outputs": [],
   "source": []
  },
  {
   "cell_type": "code",
   "execution_count": null,
   "metadata": {},
   "outputs": [],
   "source": []
  }
 ],
 "metadata": {
  "kernelspec": {
   "display_name": "Python 3",
   "language": "python",
   "name": "python3"
  },
  "language_info": {
   "codemirror_mode": {
    "name": "ipython",
    "version": 3
   },
   "file_extension": ".py",
   "mimetype": "text/x-python",
   "name": "python",
   "nbconvert_exporter": "python",
   "pygments_lexer": "ipython3",
   "version": "3.8.3"
  }
 },
 "nbformat": 4,
 "nbformat_minor": 4
}
