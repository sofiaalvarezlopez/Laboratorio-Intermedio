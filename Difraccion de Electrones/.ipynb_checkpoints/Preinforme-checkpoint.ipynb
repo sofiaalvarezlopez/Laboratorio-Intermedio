{
 "cells": [
  {
   "cell_type": "code",
   "execution_count": 2,
   "metadata": {},
   "outputs": [],
   "source": [
    "import numpy as np\n",
    "import pandas as pd"
   ]
  },
  {
   "cell_type": "markdown",
   "metadata": {},
   "source": [
    "La idea de este código es calcular las distancias interplanares del grafito utilizando: $$\\frac{1}{d^2_{hkl}} = \\frac{4}{3} \\frac{h^2 + hk + k^2}{a^2} + \\frac{l^2}{c^2}.$$\n",
    "En el caso del grafito:"
   ]
  },
  {
   "cell_type": "code",
   "execution_count": 4,
   "metadata": {},
   "outputs": [],
   "source": [
    "a = 0.2461 #nm\n",
    "c = 0.6708 #nm"
   ]
  },
  {
   "cell_type": "markdown",
   "metadata": {},
   "source": [
    "Además, tomamos $l=0$ para enfocarnos en un solo plano. Entonces,"
   ]
  },
  {
   "cell_type": "code",
   "execution_count": 19,
   "metadata": {},
   "outputs": [],
   "source": [
    "def inv_cuad_distancia(h,k,l=0,a=a,c=c):\n",
    "    return (4/3)*(h**2 + h*k + k**2)/(a**2) + l**2/c**2 "
   ]
  },
  {
   "cell_type": "markdown",
   "metadata": {},
   "source": [
    "Note que, por la forma en la que está definido el coeficiente, $d_{hkl} = d_{khl}$. Calculamos las 20 primeras distancias interplanares:"
   ]
  },
  {
   "cell_type": "code",
   "execution_count": 66,
   "metadata": {},
   "outputs": [],
   "source": [
    "distancias = {}\n",
    "for h in range(11):\n",
    "    for k in range(11):\n",
    "        if h == 0 and k == 0:\n",
    "            continue\n",
    "        if h >= k:\n",
    "            inv_cuad_d = inv_cuad_distancia(h,k)\n",
    "            d = 1/np.sqrt(inv_cuad_d)\n",
    "            # Multiplico por 1000 para que me queden las distancias en picometros.\n",
    "            d = np.round(d*1000,1)\n",
    "            distancias[r'$d_{{{val}}}$'.format(val=h+k)] = d"
   ]
  },
  {
   "cell_type": "code",
   "execution_count": 67,
   "metadata": {},
   "outputs": [],
   "source": [
    "df = pd.DataFrame(distancias.items(), columns=['Índice distancia interplanar', 'Distancia interplanar [pm]'])"
   ]
  },
  {
   "cell_type": "code",
   "execution_count": 71,
   "metadata": {},
   "outputs": [
    {
     "data": {
      "text/html": [
       "<div>\n",
       "<style scoped>\n",
       "    .dataframe tbody tr th:only-of-type {\n",
       "        vertical-align: middle;\n",
       "    }\n",
       "\n",
       "    .dataframe tbody tr th {\n",
       "        vertical-align: top;\n",
       "    }\n",
       "\n",
       "    .dataframe thead th {\n",
       "        text-align: right;\n",
       "    }\n",
       "</style>\n",
       "<table border=\"1\" class=\"dataframe\">\n",
       "  <thead>\n",
       "    <tr style=\"text-align: right;\">\n",
       "      <th></th>\n",
       "      <th>Índice distancia interplanar</th>\n",
       "      <th>Distancia interplanar [pm]</th>\n",
       "    </tr>\n",
       "  </thead>\n",
       "  <tbody>\n",
       "    <tr>\n",
       "      <th>0</th>\n",
       "      <td>$d_{1}$</td>\n",
       "      <td>213.1</td>\n",
       "    </tr>\n",
       "    <tr>\n",
       "      <th>1</th>\n",
       "      <td>$d_{2}$</td>\n",
       "      <td>106.6</td>\n",
       "    </tr>\n",
       "    <tr>\n",
       "      <th>2</th>\n",
       "      <td>$d_{3}$</td>\n",
       "      <td>71.0</td>\n",
       "    </tr>\n",
       "    <tr>\n",
       "      <th>3</th>\n",
       "      <td>$d_{4}$</td>\n",
       "      <td>53.3</td>\n",
       "    </tr>\n",
       "    <tr>\n",
       "      <th>4</th>\n",
       "      <td>$d_{5}$</td>\n",
       "      <td>42.6</td>\n",
       "    </tr>\n",
       "    <tr>\n",
       "      <th>5</th>\n",
       "      <td>$d_{6}$</td>\n",
       "      <td>35.5</td>\n",
       "    </tr>\n",
       "    <tr>\n",
       "      <th>6</th>\n",
       "      <td>$d_{7}$</td>\n",
       "      <td>30.4</td>\n",
       "    </tr>\n",
       "    <tr>\n",
       "      <th>7</th>\n",
       "      <td>$d_{8}$</td>\n",
       "      <td>26.6</td>\n",
       "    </tr>\n",
       "    <tr>\n",
       "      <th>8</th>\n",
       "      <td>$d_{9}$</td>\n",
       "      <td>23.7</td>\n",
       "    </tr>\n",
       "    <tr>\n",
       "      <th>9</th>\n",
       "      <td>$d_{10}$</td>\n",
       "      <td>21.3</td>\n",
       "    </tr>\n",
       "    <tr>\n",
       "      <th>10</th>\n",
       "      <td>$d_{11}$</td>\n",
       "      <td>20.2</td>\n",
       "    </tr>\n",
       "    <tr>\n",
       "      <th>11</th>\n",
       "      <td>$d_{12}$</td>\n",
       "      <td>19.1</td>\n",
       "    </tr>\n",
       "    <tr>\n",
       "      <th>12</th>\n",
       "      <td>$d_{13}$</td>\n",
       "      <td>18.1</td>\n",
       "    </tr>\n",
       "    <tr>\n",
       "      <th>13</th>\n",
       "      <td>$d_{14}$</td>\n",
       "      <td>17.1</td>\n",
       "    </tr>\n",
       "    <tr>\n",
       "      <th>14</th>\n",
       "      <td>$d_{15}$</td>\n",
       "      <td>16.1</td>\n",
       "    </tr>\n",
       "    <tr>\n",
       "      <th>15</th>\n",
       "      <td>$d_{16}$</td>\n",
       "      <td>15.2</td>\n",
       "    </tr>\n",
       "    <tr>\n",
       "      <th>16</th>\n",
       "      <td>$d_{17}$</td>\n",
       "      <td>14.4</td>\n",
       "    </tr>\n",
       "    <tr>\n",
       "      <th>17</th>\n",
       "      <td>$d_{18}$</td>\n",
       "      <td>13.6</td>\n",
       "    </tr>\n",
       "    <tr>\n",
       "      <th>18</th>\n",
       "      <td>$d_{19}$</td>\n",
       "      <td>12.9</td>\n",
       "    </tr>\n",
       "    <tr>\n",
       "      <th>19</th>\n",
       "      <td>$d_{20}$</td>\n",
       "      <td>12.3</td>\n",
       "    </tr>\n",
       "  </tbody>\n",
       "</table>\n",
       "</div>"
      ],
      "text/plain": [
       "   Índice distancia interplanar  Distancia interplanar [pm]\n",
       "0                       $d_{1}$                       213.1\n",
       "1                       $d_{2}$                       106.6\n",
       "2                       $d_{3}$                        71.0\n",
       "3                       $d_{4}$                        53.3\n",
       "4                       $d_{5}$                        42.6\n",
       "5                       $d_{6}$                        35.5\n",
       "6                       $d_{7}$                        30.4\n",
       "7                       $d_{8}$                        26.6\n",
       "8                       $d_{9}$                        23.7\n",
       "9                      $d_{10}$                        21.3\n",
       "10                     $d_{11}$                        20.2\n",
       "11                     $d_{12}$                        19.1\n",
       "12                     $d_{13}$                        18.1\n",
       "13                     $d_{14}$                        17.1\n",
       "14                     $d_{15}$                        16.1\n",
       "15                     $d_{16}$                        15.2\n",
       "16                     $d_{17}$                        14.4\n",
       "17                     $d_{18}$                        13.6\n",
       "18                     $d_{19}$                        12.9\n",
       "19                     $d_{20}$                        12.3"
      ]
     },
     "execution_count": 71,
     "metadata": {},
     "output_type": "execute_result"
    }
   ],
   "source": [
    "df"
   ]
  }
 ],
 "metadata": {
  "kernelspec": {
   "display_name": "Python 3",
   "language": "python",
   "name": "python3"
  },
  "language_info": {
   "codemirror_mode": {
    "name": "ipython",
    "version": 3
   },
   "file_extension": ".py",
   "mimetype": "text/x-python",
   "name": "python",
   "nbconvert_exporter": "python",
   "pygments_lexer": "ipython3",
   "version": "3.8.3"
  }
 },
 "nbformat": 4,
 "nbformat_minor": 4
}
